{
 "cells": [
  {
   "cell_type": "code",
   "execution_count": 1,
   "metadata": {},
   "outputs": [],
   "source": [
    "import os"
   ]
  },
  {
   "cell_type": "code",
   "execution_count": 4,
   "metadata": {},
   "outputs": [
    {
     "data": {
      "text/plain": [
       "'e:\\\\projects\\\\Delivery-time-prediction-for-food-devlivery-industry'"
      ]
     },
     "execution_count": 4,
     "metadata": {},
     "output_type": "execute_result"
    }
   ],
   "source": [
    "%pwd"
   ]
  },
  {
   "cell_type": "code",
   "execution_count": 3,
   "metadata": {},
   "outputs": [],
   "source": [
    "os.chdir(\"../\")"
   ]
  },
  {
   "cell_type": "code",
   "execution_count": 35,
   "metadata": {},
   "outputs": [],
   "source": [
    "\n",
    "from dataclasses import dataclass\n",
    "from pathlib import Path\n",
    "\n",
    "@dataclass(frozen=True)\n",
    "class ModelRegisterConfig:\n",
    "  dagshu_tracking_uri : Path\n",
    "  run_json_info: Path\n",
    "  repo_owner: str\n",
    "  repo_name: str"
   ]
  },
  {
   "cell_type": "code",
   "execution_count": 36,
   "metadata": {},
   "outputs": [],
   "source": [
    "from pathlib import Path\n",
    "\n",
    "CONFIG_FILE_PATH = Path(\"E:\\projects\\Delivery-time-prediction-for-food-devlivery-industry\\config\\config.yaml\")\n",
    "PARAMS_FILE_PATH = Path(\"E:\\projects\\Delivery-time-prediction-for-food-devlivery-industry\\params.yaml\")\n",
    "SCHEMA_FILE_PATH = Path(\"E:\\projects\\Delivery-time-prediction-for-food-devlivery-industry\\schema.yaml\")"
   ]
  },
  {
   "cell_type": "code",
   "execution_count": 29,
   "metadata": {},
   "outputs": [],
   "source": [
    "from Deliveryprediction.constants import *\n",
    "from Deliveryprediction.utils.common import read_yaml, create_directories"
   ]
  },
  {
   "cell_type": "code",
   "execution_count": 37,
   "metadata": {},
   "outputs": [],
   "source": [
    "class ConfigurationManager:\n",
    "    def __init__(\n",
    "        self,\n",
    "        config_filepath = CONFIG_FILE_PATH,\n",
    "        params_filepath = PARAMS_FILE_PATH,\n",
    "        schema_filepath = SCHEMA_FILE_PATH):\n",
    "\n",
    "        self.config = read_yaml(config_filepath)\n",
    "        self.params = read_yaml(params_filepath)\n",
    "        self.schema = read_yaml(schema_filepath)\n",
    "\n",
    "        create_directories([self.config.artifacts_root])\n",
    "\n",
    "\n",
    "    \n",
    "    def get_model_registry_config(self) -> ModelRegisterConfig:\n",
    "        config = self.config.model_registry    \n",
    "\n",
    "        #create_directories([config.root_dir])\n",
    "\n",
    "        model_registry_config = ModelRegisterConfig(\n",
    "            dagshu_tracking_uri = config.dagshu_tracking_uri,\n",
    "            run_json_info = config.run_json_info,\n",
    "            repo_name= config.repo_name,\n",
    "            repo_owner= config.repo_owner,\n",
    "\n",
    "        )\n",
    "\n",
    "        return model_registry_config"
   ]
  },
  {
   "cell_type": "code",
   "execution_count": 44,
   "metadata": {},
   "outputs": [],
   "source": [
    "import mlflow\n",
    "import dagshub\n",
    "import json\n",
    "from pathlib import Path\n",
    "from mlflow import MlflowClient\n",
    "from Deliveryprediction import logger\n",
    "\n",
    "class MLFlowModelRegistry:\n",
    "    def __init__(self,logger,config=ModelRegisterConfig):\n",
    "        self.config = config\n",
    "        self.repo_owner = config.repo_owner\n",
    "        self.repo_name = config.repo_name\n",
    "        self.logger = logger\n",
    "        self.tracking_uri = config.dagshu_tracking_uri\n",
    "        self.run_info_path = Path(config.run_json_info)\n",
    "        self._initialize_dagshub()\n",
    "        self._set_tracking_uri()\n",
    "        self.client = MlflowClient()\n",
    "        \n",
    "\n",
    "    def _initialize_dagshub(self):\n",
    "        dagshub.init(repo_owner=self.repo_owner, repo_name=self.repo_name, mlflow=True)\n",
    "\n",
    "    def _set_tracking_uri(self):\n",
    "        mlflow.set_tracking_uri(self.tracking_uri)\n",
    "\n",
    "    def load_model_information(self):\n",
    "        with open(self.run_info_path) as f:\n",
    "            return json.load(f)\n",
    "\n",
    "    def register_and_transition_model(self):\n",
    "        run_info = self.load_model_information()\n",
    "        run_id = run_info[\"run_id\"]\n",
    "        model_name = run_info[\"model_name\"]\n",
    "        \n",
    "        model_registry_path = f\"runs:/{run_id}/{model_name}\"\n",
    "        model_version = mlflow.register_model(model_uri=model_registry_path, name=model_name)\n",
    "        \n",
    "        registered_model_version = model_version.version\n",
    "        registered_model_name = model_version.name\n",
    "        \n",
    "        self.logger.info(f\"The latest model version in model registry is {registered_model_version}\")\n",
    "        \n",
    "        self.client.transition_model_version_stage(\n",
    "            name=registered_model_name,\n",
    "            version=registered_model_version,\n",
    "            stage=\"Staging\"\n",
    "        )\n",
    "        \n",
    "        self.logger.info(\"Model pushed to Staging stage\")\n",
    "\n",
    "\n",
    "    "
   ]
  },
  {
   "cell_type": "code",
   "execution_count": 39,
   "metadata": {},
   "outputs": [
    {
     "name": "stdout",
     "output_type": "stream",
     "text": [
      "[2025-02-19 15:08:46,501: INFO: common: yaml file: E:\\projects\\Delivery-time-prediction-for-food-devlivery-industry\\config\\config.yaml loaded successfully]\n",
      "[2025-02-19 15:08:46,507: INFO: common: yaml file: E:\\projects\\Delivery-time-prediction-for-food-devlivery-industry\\params.yaml loaded successfully]\n",
      "[2025-02-19 15:08:46,515: INFO: common: yaml file: E:\\projects\\Delivery-time-prediction-for-food-devlivery-industry\\schema.yaml loaded successfully]\n",
      "[2025-02-19 15:08:46,517: INFO: common: created directory at: artifacts]\n"
     ]
    }
   ],
   "source": [
    "config=ConfigurationManager()"
   ]
  },
  {
   "cell_type": "code",
   "execution_count": null,
   "metadata": {},
   "outputs": [],
   "source": [
    "model_registry=config.get_model_registry_config()"
   ]
  },
  {
   "cell_type": "code",
   "execution_count": null,
   "metadata": {},
   "outputs": [
    {
     "name": "stdout",
     "output_type": "stream",
     "text": [
      "[2025-02-19 15:11:14,876: INFO: _client: HTTP Request: GET https://dagshub.com/api/v1/user \"HTTP/1.1 200 OK\"]\n"
     ]
    },
    {
     "data": {
      "text/html": [
       "<pre style=\"white-space:pre;overflow-x:auto;line-height:normal;font-family:Menlo,'DejaVu Sans Mono',consolas,'Courier New',monospace\">Accessing as onkar-git\n",
       "</pre>\n"
      ],
      "text/plain": [
       "Accessing as onkar-git\n"
      ]
     },
     "metadata": {},
     "output_type": "display_data"
    },
    {
     "name": "stdout",
     "output_type": "stream",
     "text": [
      "[2025-02-19 15:11:14,887: INFO: helpers: Accessing as onkar-git]\n",
      "[2025-02-19 15:11:15,790: INFO: _client: HTTP Request: GET https://dagshub.com/api/v1/repos/onkar-git/Delivery-time-prediction-for-food-delivery-industry \"HTTP/1.1 200 OK\"]\n",
      "[2025-02-19 15:11:16,802: INFO: _client: HTTP Request: GET https://dagshub.com/api/v1/user \"HTTP/1.1 200 OK\"]\n"
     ]
    },
    {
     "data": {
      "text/html": [
       "<pre style=\"white-space:pre;overflow-x:auto;line-height:normal;font-family:Menlo,'DejaVu Sans Mono',consolas,'Courier New',monospace\">Initialized MLflow to track repo <span style=\"color: #008000; text-decoration-color: #008000\">\"onkar-git/Delivery-time-prediction-for-food-delivery-industry\"</span>\n",
       "</pre>\n"
      ],
      "text/plain": [
       "Initialized MLflow to track repo \u001b[32m\"onkar-git/Delivery-time-prediction-for-food-delivery-industry\"\u001b[0m\n"
      ]
     },
     "metadata": {},
     "output_type": "display_data"
    },
    {
     "name": "stdout",
     "output_type": "stream",
     "text": [
      "[2025-02-19 15:11:16,808: INFO: helpers: Initialized MLflow to track repo \"onkar-git/Delivery-time-prediction-for-food-delivery-industry\"]\n"
     ]
    },
    {
     "data": {
      "text/html": [
       "<pre style=\"white-space:pre;overflow-x:auto;line-height:normal;font-family:Menlo,'DejaVu Sans Mono',consolas,'Courier New',monospace\">Repository onkar-git/Delivery-time-prediction-for-food-delivery-industry initialized!\n",
       "</pre>\n"
      ],
      "text/plain": [
       "Repository onkar-git/Delivery-time-prediction-for-food-delivery-industry initialized!\n"
      ]
     },
     "metadata": {},
     "output_type": "display_data"
    },
    {
     "name": "stdout",
     "output_type": "stream",
     "text": [
      "[2025-02-19 15:11:16,811: INFO: helpers: Repository onkar-git/Delivery-time-prediction-for-food-delivery-industry initialized!]\n"
     ]
    }
   ],
   "source": [
    "model_register = MLFlowModelRegistry(logger=logger,config=model_registry)"
   ]
  },
  {
   "cell_type": "code",
   "execution_count": 46,
   "metadata": {},
   "outputs": [
    {
     "name": "stderr",
     "output_type": "stream",
     "text": [
      "Successfully registered model 'delivery_time_pred_model'.\n",
      "2025/02/19 15:13:06 INFO mlflow.store.model_registry.abstract_store: Waiting up to 300 seconds for model version to finish creation. Model name: delivery_time_pred_model, version 1\n"
     ]
    },
    {
     "name": "stdout",
     "output_type": "stream",
     "text": [
      "[2025-02-19 15:13:06,726: INFO: 2349854883: The latest model version in model registry is 1]\n"
     ]
    },
    {
     "name": "stderr",
     "output_type": "stream",
     "text": [
      "Created version '1' of model 'delivery_time_pred_model'.\n",
      "C:\\Users\\Admin\\AppData\\Local\\Temp\\ipykernel_9400\\2349854883.py:44: FutureWarning: ``mlflow.tracking.client.MlflowClient.transition_model_version_stage`` is deprecated since 2.9.0. Model registry stages will be removed in a future major release. To learn more about the deprecation of model registry stages, see our migration guide here: https://mlflow.org/docs/latest/model-registry.html#migrating-from-stages\n",
      "  self.client.transition_model_version_stage(\n"
     ]
    },
    {
     "name": "stdout",
     "output_type": "stream",
     "text": [
      "[2025-02-19 15:13:07,057: INFO: 2349854883: Model pushed to Staging stage]\n"
     ]
    }
   ],
   "source": [
    "model_register.register_and_transition_model()"
   ]
  },
  {
   "cell_type": "code",
   "execution_count": null,
   "metadata": {},
   "outputs": [],
   "source": []
  }
 ],
 "metadata": {
  "kernelspec": {
   "display_name": ".venv",
   "language": "python",
   "name": "python3"
  },
  "language_info": {
   "codemirror_mode": {
    "name": "ipython",
    "version": 3
   },
   "file_extension": ".py",
   "mimetype": "text/x-python",
   "name": "python",
   "nbconvert_exporter": "python",
   "pygments_lexer": "ipython3",
   "version": "3.10.13"
  }
 },
 "nbformat": 4,
 "nbformat_minor": 2
}
