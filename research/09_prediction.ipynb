{
 "cells": [
  {
   "cell_type": "code",
   "execution_count": 3,
   "metadata": {},
   "outputs": [],
   "source": [
    "from fastapi import FastAPI\n",
    "from pydantic import BaseModel\n",
    "from sklearn.pipeline import Pipeline\n",
    "import uvicorn\n",
    "import pandas as pd\n",
    "import mlflow\n",
    "import json\n",
    "import joblib\n",
    "from mlflow import MlflowClient\n",
    "from sklearn import set_config\n",
    "from pathlib import Path\n",
    "#from scripts.data_clean_utils import perform_data_cleaning\n",
    "from Deliveryprediction.components._3_data_cleaning import DataCleaning\n",
    "from Deliveryprediction import logger\n"
   ]
  },
  {
   "cell_type": "code",
   "execution_count": 1,
   "metadata": {},
   "outputs": [],
   "source": [
    "import os"
   ]
  },
  {
   "cell_type": "code",
   "execution_count": 2,
   "metadata": {},
   "outputs": [],
   "source": [
    "os.chdir(\"../\")"
   ]
  },
  {
   "cell_type": "code",
   "execution_count": 5,
   "metadata": {},
   "outputs": [
    {
     "data": {
      "text/plain": [
       "'e:\\\\projects\\\\Delivery-time-prediction-for-food-devlivery-industry'"
      ]
     },
     "execution_count": 5,
     "metadata": {},
     "output_type": "execute_result"
    }
   ],
   "source": [
    "%pwd"
   ]
  },
  {
   "cell_type": "code",
   "execution_count": 4,
   "metadata": {},
   "outputs": [],
   "source": [
    "\n",
    "set_config(transform_output='pandas')"
   ]
  },
  {
   "cell_type": "code",
   "execution_count": 6,
   "metadata": {},
   "outputs": [
    {
     "name": "stdout",
     "output_type": "stream",
     "text": [
      "[2025-02-20 12:06:16,316: INFO: _client: HTTP Request: GET https://dagshub.com/api/v1/user \"HTTP/1.1 200 OK\"]\n"
     ]
    },
    {
     "data": {
      "text/html": [
       "<pre style=\"white-space:pre;overflow-x:auto;line-height:normal;font-family:Menlo,'DejaVu Sans Mono',consolas,'Courier New',monospace\">Accessing as onkar-git\n",
       "</pre>\n"
      ],
      "text/plain": [
       "Accessing as onkar-git\n"
      ]
     },
     "metadata": {},
     "output_type": "display_data"
    },
    {
     "name": "stdout",
     "output_type": "stream",
     "text": [
      "[2025-02-20 12:06:16,331: INFO: helpers: Accessing as onkar-git]\n",
      "[2025-02-20 12:06:17,395: INFO: _client: HTTP Request: GET https://dagshub.com/api/v1/repos/onkar-git/Delivery-time-prediction-for-food-delivery-indust \"HTTP/1.1 200 OK\"]\n",
      "[2025-02-20 12:06:18,349: INFO: _client: HTTP Request: GET https://dagshub.com/api/v1/user \"HTTP/1.1 200 OK\"]\n"
     ]
    },
    {
     "data": {
      "text/html": [
       "<pre style=\"white-space:pre;overflow-x:auto;line-height:normal;font-family:Menlo,'DejaVu Sans Mono',consolas,'Courier New',monospace\">Initialized MLflow to track repo <span style=\"color: #008000; text-decoration-color: #008000\">\"onkar-git/Delivery-time-prediction-for-food-delivery-indust\"</span>\n",
       "</pre>\n"
      ],
      "text/plain": [
       "Initialized MLflow to track repo \u001b[32m\"onkar-git/Delivery-time-prediction-for-food-delivery-indust\"\u001b[0m\n"
      ]
     },
     "metadata": {},
     "output_type": "display_data"
    },
    {
     "name": "stdout",
     "output_type": "stream",
     "text": [
      "[2025-02-20 12:06:18,355: INFO: helpers: Initialized MLflow to track repo \"onkar-git/Delivery-time-prediction-for-food-delivery-indust\"]\n"
     ]
    },
    {
     "data": {
      "text/html": [
       "<pre style=\"white-space:pre;overflow-x:auto;line-height:normal;font-family:Menlo,'DejaVu Sans Mono',consolas,'Courier New',monospace\">Repository onkar-git/Delivery-time-prediction-for-food-delivery-indust initialized!\n",
       "</pre>\n"
      ],
      "text/plain": [
       "Repository onkar-git/Delivery-time-prediction-for-food-delivery-indust initialized!\n"
      ]
     },
     "metadata": {},
     "output_type": "display_data"
    },
    {
     "name": "stdout",
     "output_type": "stream",
     "text": [
      "[2025-02-20 12:06:18,360: INFO: helpers: Repository onkar-git/Delivery-time-prediction-for-food-delivery-indust initialized!]\n"
     ]
    },
    {
     "name": "stderr",
     "output_type": "stream",
     "text": [
      "e:\\projects\\Delivery-time-prediction-for-food-devlivery-industry\\.venv\\lib\\site-packages\\mlflow\\store\\artifact\\utils\\models.py:31: FutureWarning: ``mlflow.tracking.client.MlflowClient.get_latest_versions`` is deprecated since 2.9.0. Model registry stages will be removed in a future major release. To learn more about the deprecation of model registry stages, see our migration guide here: https://mlflow.org/docs/latest/model-registry.html#migrating-from-stages\n",
      "  latest = client.get_latest_versions(name, None if stage is None else [stage])\n",
      "e:\\projects\\Delivery-time-prediction-for-food-devlivery-industry\\.venv\\lib\\site-packages\\tqdm\\auto.py:21: TqdmWarning: IProgress not found. Please update jupyter and ipywidgets. See https://ipywidgets.readthedocs.io/en/stable/user_install.html\n",
      "  from .autonotebook import tqdm as notebook_tqdm\n",
      "Downloading artifacts: 100%|██████████| 5/5 [00:12<00:00,  2.59s/it] \n"
     ]
    },
    {
     "name": "stdout",
     "output_type": "stream",
     "text": [
      "Unexpected exception formatting exception. Falling back to standard exception\n"
     ]
    },
    {
     "name": "stderr",
     "output_type": "stream",
     "text": [
      "Traceback (most recent call last):\n",
      "  File \"e:\\projects\\Delivery-time-prediction-for-food-devlivery-industry\\.venv\\lib\\site-packages\\IPython\\core\\interactiveshell.py\", line 3579, in run_code\n",
      "    exec(code_obj, self.user_global_ns, self.user_ns)\n",
      "  File \"C:\\Users\\Admin\\AppData\\Local\\Temp\\ipykernel_15040\\1292706408.py\", line 140, in <module>\n",
      "    uvicorn.run(app=\"app:app\",host=\"0.0.0.0\",port=8000)\n",
      "  File \"e:\\projects\\Delivery-time-prediction-for-food-devlivery-industry\\.venv\\lib\\site-packages\\uvicorn\\main.py\", line 579, in run\n",
      "    server.run()\n",
      "  File \"e:\\projects\\Delivery-time-prediction-for-food-devlivery-industry\\.venv\\lib\\site-packages\\uvicorn\\server.py\", line 66, in run\n",
      "    return asyncio.run(self.serve(sockets=sockets))\n",
      "  File \"e:\\projects\\Delivery-time-prediction-for-food-devlivery-industry\\.venv\\lib\\site-packages\\nest_asyncio.py\", line 30, in run\n",
      "    return loop.run_until_complete(task)\n",
      "  File \"e:\\projects\\Delivery-time-prediction-for-food-devlivery-industry\\.venv\\lib\\site-packages\\nest_asyncio.py\", line 98, in run_until_complete\n",
      "    return f.result()\n",
      "  File \"C:\\ProgramData\\anaconda3\\lib\\asyncio\\futures.py\", line 201, in result\n",
      "    raise self._exception.with_traceback(self._exception_tb)\n",
      "  File \"C:\\ProgramData\\anaconda3\\lib\\asyncio\\tasks.py\", line 232, in __step\n",
      "    result = coro.send(None)\n",
      "  File \"e:\\projects\\Delivery-time-prediction-for-food-devlivery-industry\\.venv\\lib\\site-packages\\uvicorn\\server.py\", line 70, in serve\n",
      "    await self._serve(sockets)\n",
      "  File \"e:\\projects\\Delivery-time-prediction-for-food-devlivery-industry\\.venv\\lib\\site-packages\\uvicorn\\server.py\", line 77, in _serve\n",
      "    config.load()\n",
      "  File \"e:\\projects\\Delivery-time-prediction-for-food-devlivery-industry\\.venv\\lib\\site-packages\\uvicorn\\config.py\", line 435, in load\n",
      "    self.loaded_app = import_from_string(self.app)\n",
      "  File \"e:\\projects\\Delivery-time-prediction-for-food-devlivery-industry\\.venv\\lib\\site-packages\\uvicorn\\importer.py\", line 22, in import_from_string\n",
      "    raise exc from None\n",
      "  File \"e:\\projects\\Delivery-time-prediction-for-food-devlivery-industry\\.venv\\lib\\site-packages\\uvicorn\\importer.py\", line 19, in import_from_string\n",
      "    module = importlib.import_module(module_str)\n",
      "  File \"C:\\ProgramData\\anaconda3\\lib\\importlib\\__init__.py\", line 126, in import_module\n",
      "    return _bootstrap._gcd_import(name[level:], package, level)\n",
      "  File \"<frozen importlib._bootstrap>\", line 1050, in _gcd_import\n",
      "  File \"<frozen importlib._bootstrap>\", line 1027, in _find_and_load\n",
      "  File \"<frozen importlib._bootstrap>\", line 1006, in _find_and_load_unlocked\n",
      "  File \"<frozen importlib._bootstrap>\", line 688, in _load_unlocked\n",
      "  File \"<frozen importlib._bootstrap_external>\", line 883, in exec_module\n",
      "  File \"<frozen importlib._bootstrap>\", line 241, in _call_with_frames_removed\n",
      "  File \"e:\\projects\\Delivery-time-prediction-for-food-devlivery-industry\\app.py\", line 13, in <module>\n",
      "    from Deliveryprediction.componenets._03_data_cleaning import DataCleaning\n",
      "ModuleNotFoundError: No module named 'Deliveryprediction.componenets'\n",
      "\n",
      "During handling of the above exception, another exception occurred:\n",
      "\n",
      "Traceback (most recent call last):\n",
      "  File \"e:\\projects\\Delivery-time-prediction-for-food-devlivery-industry\\.venv\\lib\\site-packages\\IPython\\core\\interactiveshell.py\", line 2170, in showtraceback\n",
      "    stb = self.InteractiveTB.structured_traceback(\n",
      "  File \"e:\\projects\\Delivery-time-prediction-for-food-devlivery-industry\\.venv\\lib\\site-packages\\IPython\\core\\ultratb.py\", line 1457, in structured_traceback\n",
      "    return FormattedTB.structured_traceback(\n",
      "  File \"e:\\projects\\Delivery-time-prediction-for-food-devlivery-industry\\.venv\\lib\\site-packages\\IPython\\core\\ultratb.py\", line 1348, in structured_traceback\n",
      "    return VerboseTB.structured_traceback(\n",
      "  File \"e:\\projects\\Delivery-time-prediction-for-food-devlivery-industry\\.venv\\lib\\site-packages\\IPython\\core\\ultratb.py\", line 1195, in structured_traceback\n",
      "    formatted_exception = self.format_exception_as_a_whole(etype, evalue, etb, number_of_lines_of_context,\n",
      "  File \"e:\\projects\\Delivery-time-prediction-for-food-devlivery-industry\\.venv\\lib\\site-packages\\IPython\\core\\ultratb.py\", line 1110, in format_exception_as_a_whole\n",
      "    frames.append(self.format_record(record))\n",
      "  File \"e:\\projects\\Delivery-time-prediction-for-food-devlivery-industry\\.venv\\lib\\site-packages\\IPython\\core\\ultratb.py\", line 992, in format_record\n",
      "    frame_info.lines, Colors, self.has_colors, lvals\n",
      "  File \"e:\\projects\\Delivery-time-prediction-for-food-devlivery-industry\\.venv\\lib\\site-packages\\IPython\\core\\ultratb.py\", line 804, in lines\n",
      "    return self._sd.lines\n",
      "  File \"e:\\projects\\Delivery-time-prediction-for-food-devlivery-industry\\.venv\\lib\\site-packages\\stack_data\\utils.py\", line 145, in cached_property_wrapper\n",
      "    value = obj.__dict__[self.func.__name__] = self.func(obj)\n",
      "  File \"e:\\projects\\Delivery-time-prediction-for-food-devlivery-industry\\.venv\\lib\\site-packages\\stack_data\\core.py\", line 734, in lines\n",
      "    pieces = self.included_pieces\n",
      "  File \"e:\\projects\\Delivery-time-prediction-for-food-devlivery-industry\\.venv\\lib\\site-packages\\stack_data\\utils.py\", line 145, in cached_property_wrapper\n",
      "    value = obj.__dict__[self.func.__name__] = self.func(obj)\n",
      "  File \"e:\\projects\\Delivery-time-prediction-for-food-devlivery-industry\\.venv\\lib\\site-packages\\stack_data\\core.py\", line 677, in included_pieces\n",
      "    scope_pieces = self.scope_pieces\n",
      "  File \"e:\\projects\\Delivery-time-prediction-for-food-devlivery-industry\\.venv\\lib\\site-packages\\stack_data\\utils.py\", line 145, in cached_property_wrapper\n",
      "    value = obj.__dict__[self.func.__name__] = self.func(obj)\n",
      "  File \"e:\\projects\\Delivery-time-prediction-for-food-devlivery-industry\\.venv\\lib\\site-packages\\stack_data\\core.py\", line 614, in scope_pieces\n",
      "    scope_start, scope_end = self.source.line_range(self.scope)\n",
      "  File \"e:\\projects\\Delivery-time-prediction-for-food-devlivery-industry\\.venv\\lib\\site-packages\\stack_data\\core.py\", line 178, in line_range\n",
      "    return line_range(self.asttext(), node)\n",
      "AttributeError: 'Source' object has no attribute 'asttext'\n"
     ]
    }
   ],
   "source": [
    "import dagshub\n",
    "import mlflow.client\n",
    "import nest_asyncio\n",
    "import uvicorn\n",
    "\n",
    "\n",
    "dagshub.init(repo_owner='onkar-git', \n",
    "             repo_name='Delivery-time-prediction-for-food-delivery-indust', \n",
    "             mlflow=True)\n",
    "\n",
    "# set the mlflow tracking server\n",
    "mlflow.set_tracking_uri(\"https://dagshub.com/onkar-git/Delivery-time-prediction-for-food-delivery-industry.mlflow\")\n",
    "\n",
    "\n",
    "class Data(BaseModel):  \n",
    "    ID: str\n",
    "    Delivery_person_ID: str\n",
    "    Delivery_person_Age: str\n",
    "    Delivery_person_Ratings: str\n",
    "    Restaurant_latitude: float\n",
    "    Restaurant_longitude: float\n",
    "    Delivery_location_latitude: float\n",
    "    Delivery_location_longitude: float\n",
    "    Order_Date: str\n",
    "    Time_Orderd: str\n",
    "    Time_Order_picked: str\n",
    "    Weatherconditions: str\n",
    "    Road_traffic_density: str\n",
    "    Vehicle_condition: int\n",
    "    Type_of_order: str\n",
    "    Type_of_vehicle: str\n",
    "    multiple_deliveries: str\n",
    "    Festival: str\n",
    "    City: str\n",
    "\n",
    "    \n",
    "    \n",
    "def load_model_information(file_path):\n",
    "    with open(file_path) as f:\n",
    "        run_info = json.load(f)\n",
    "        \n",
    "    return run_info\n",
    "\n",
    "\n",
    "def load_transformer(transformer_path):\n",
    "    transformer = joblib.load(transformer_path)\n",
    "    return transformer\n",
    "\n",
    "\n",
    "\n",
    "# columns to preprocess in data\n",
    "num_cols = [\"age\",\n",
    "            \"ratings\",\n",
    "            \"pickup_time_minutes\",\n",
    "            \"distance\"]\n",
    "\n",
    "nominal_cat_cols = ['weather',\n",
    "                    'type_of_order',\n",
    "                    'type_of_vehicle',\n",
    "                    \"festival\",\n",
    "                    \"city_type\",\n",
    "                    \"is_weekend\",\n",
    "                    \"order_time_of_day\"]\n",
    "\n",
    "ordinal_cat_cols = [\"traffic\",\"distance_type\"]\n",
    "\n",
    "#mlflow client\n",
    "client = MlflowClient()\n",
    "\n",
    "# load the model info to get the model name\n",
    "model_file_path = \"artifacts\\model_evaluation\\metrics.json\"\n",
    "model_name = load_model_information(model_file_path)['model_name']\n",
    "\n",
    "# stage of the model\n",
    "stage = \"Staging\"\n",
    "\n",
    "# get the latest model version\n",
    "# latest_model_ver = client.get_latest_versions(name=model_name,stages=[stage])\n",
    "# print(f\"Latest model in production is version {latest_model_ver[0].version}\")\n",
    "\n",
    "# load model path\n",
    "model_path = f\"models:/{model_name}/{stage}\"\n",
    "\n",
    "# load the latest model from model registry\n",
    "model = mlflow.sklearn.load_model(model_path)\n",
    "\n",
    "# load the preprocessor\n",
    "preprocessor_path = \"artifacts/data_trans/models/preprocessor.joblib\"\n",
    "preprocessor = load_transformer(preprocessor_path)\n",
    "\n",
    "# build the model pipeline\n",
    "model_pipe = Pipeline(steps=[\n",
    "    ('preprocess',preprocessor),\n",
    "    (\"regressor\",model)\n",
    "])\n",
    "\n",
    "# create the app\n",
    "app = FastAPI()\n",
    "\n",
    "# create the home endpoint\n",
    "@app.get(path=\"/\")\n",
    "def home():\n",
    "    return \"Welcome to the Swiggy Food Delivery Time Prediction App\"\n",
    "\n",
    "# create the predict endpoint\n",
    "@app.post(path=\"/predict\")\n",
    "def do_predictions(data: Data):\n",
    "    pred_data = pd.DataFrame({\n",
    "        'ID': data.ID,\n",
    "        'Delivery_person_ID': data.Delivery_person_ID,\n",
    "        'Delivery_person_Age': data.Delivery_person_Age,\n",
    "        'Delivery_person_Ratings': data.Delivery_person_Ratings,\n",
    "        'Restaurant_latitude': data.Restaurant_latitude,\n",
    "        'Restaurant_longitude': data.Restaurant_longitude,\n",
    "        'Delivery_location_latitude': data.Delivery_location_latitude,\n",
    "        'Delivery_location_longitude': data.Delivery_location_longitude,\n",
    "        'Order_Date': data.Order_Date,\n",
    "        'Time_Orderd': data.Time_Orderd,\n",
    "        'Time_Order_picked': data.Time_Order_picked,\n",
    "        'Weatherconditions': data.Weatherconditions,\n",
    "        'Road_traffic_density': data.Road_traffic_density,\n",
    "        'Vehicle_condition': data.Vehicle_condition,\n",
    "        'Type_of_order': data.Type_of_order,\n",
    "        'Type_of_vehicle': data.Type_of_vehicle,\n",
    "        'multiple_deliveries': data.multiple_deliveries,\n",
    "        'Festival': data.Festival,\n",
    "        'City': data.City\n",
    "        },index=[0]\n",
    "    )\n",
    "\n",
    "    cleaned_data = DataCleaning.perform_data_cleaning(pred_data)\n",
    "    # get the predictions\n",
    "    predictions = model_pipe.predict(cleaned_data)[0]\n",
    "\n",
    "    return predictions\n",
    "\n",
    "\n",
    "if __name__ == \"__main__\":\n",
    "    nest_asyncio.apply()\n",
    "    uvicorn.run(app=\"app:app\",host=\"0.0.0.0\",port=8000)"
   ]
  },
  {
   "cell_type": "code",
   "execution_count": 5,
   "metadata": {},
   "outputs": [
    {
     "name": "stdout",
     "output_type": "stream",
     "text": [
      "Requirement already satisfied: nest_asyncio in e:\\projects\\delivery-time-prediction-for-food-devlivery-industry\\.venv\\lib\\site-packages (1.6.0)\n"
     ]
    }
   ],
   "source": [
    "!pip install nest_asyncio"
   ]
  },
  {
   "cell_type": "code",
   "execution_count": 7,
   "metadata": {},
   "outputs": [
    {
     "name": "stdout",
     "output_type": "stream",
     "text": [
      "True\n"
     ]
    }
   ],
   "source": [
    "import asyncio\n",
    "print(asyncio.get_event_loop().is_running())\n"
   ]
  }
 ],
 "metadata": {
  "kernelspec": {
   "display_name": ".venv",
   "language": "python",
   "name": "python3"
  },
  "language_info": {
   "codemirror_mode": {
    "name": "ipython",
    "version": 3
   },
   "file_extension": ".py",
   "mimetype": "text/x-python",
   "name": "python",
   "nbconvert_exporter": "python",
   "pygments_lexer": "ipython3",
   "version": "3.10.13"
  }
 },
 "nbformat": 4,
 "nbformat_minor": 2
}
