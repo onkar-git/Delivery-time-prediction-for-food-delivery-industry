{
 "cells": [
  {
   "cell_type": "code",
   "execution_count": null,
   "metadata": {},
   "outputs": [],
   "source": [
    "import pandas as pd\n",
    "from sklearn.model_selection import train_test_split\n",
    "import yaml\n",
    "import logging\n",
    "from pathlib import Path\n",
    "\n",
    "TARGET = \"time_taken\"\n",
    "\n",
    "\n",
    "\n",
    "\n",
    "def load_data(data_path: Path) -> pd.DataFrame:\n",
    "    try:\n",
    "        df = pd.read_csv(data_path)\n",
    "    \n",
    "    except FileNotFoundError:\n",
    "        logger.error(\"The file to load does not exist\")\n",
    "    \n",
    "    return df\n",
    "\n",
    "\n",
    "\n",
    "def split_data(data: pd.DataFrame, test_size: float, random_state: int):\n",
    "    train_data, test_data = train_test_split(data, \n",
    "                                             test_size=test_size, \n",
    "                                             random_state=random_state)\n",
    "    \n",
    "    return train_data, test_data\n",
    "\n",
    "def read_params(file_path):\n",
    "    with open(file_path,\"r\") as f:\n",
    "        params_file = yaml.safe_load(f)\n",
    "    \n",
    "    return params_file\n",
    "        \n",
    "def save_data(data: pd.DataFrame, save_path: Path) -> None:\n",
    "    data.to_csv(save_path, index=False)\n",
    "    \n",
    "    \n",
    "if __name__ == \"__main__\":\n",
    "    # set file paths\n",
    "    # root path\n",
    "    root_path = Path(__file__).parent.parent.parent\n",
    "    # data load path\n",
    "    data_path = root_path / \"data\" / \"cleaned\" / \"swiggy_cleaned.csv\"\n",
    "    # save data directory\n",
    "    save_data_dir = root_path / \"data\" / \"interim\"\n",
    "    # make dir if not preseny\n",
    "    save_data_dir.mkdir(exist_ok=True,parents=True)\n",
    "    # train and test data save paths\n",
    "    # filenames\n",
    "    train_filename = \"train.csv\"\n",
    "    test_filename = \"test.csv\"\n",
    "    # save path for train and test\n",
    "    save_train_path = save_data_dir / train_filename\n",
    "    save_test_path = save_data_dir / test_filename\n",
    "    # parameters file\n",
    "    params_file_path = root_path / \"params.yaml\"\n",
    "    \n",
    "    # load the cleaned data\n",
    "    df = load_data(data_path)\n",
    "    logger.info(\"Data Loaded Successfully\")\n",
    "    \n",
    "    # read the parameters\n",
    "    parameters = read_params(params_file_path)['Data_Preparation']\n",
    "    test_size = parameters['test_size']\n",
    "    random_state = parameters['random_state']\n",
    "    logger.info(\"parameters read successfully\")\n",
    "    \n",
    "    # split into train and test data\n",
    "    train_data, test_data = split_data(df,test_size=test_size,random_state=random_state)\n",
    "    logger.info(\"Dataset split into train and test data\")\n",
    "    \n",
    "    # save the train and test data\n",
    "    data_subsets = [train_data,test_data]\n",
    "    data_paths = [save_train_path,save_test_path]\n",
    "    filename_list = [train_filename,test_filename]\n",
    "    for filename , path, data in zip(filename_list, data_paths, data_subsets):\n",
    "        save_data(data=data, save_path=path)\n",
    "        logger.info(f\"{filename.replace(\".csv\",\"\")} data saved to location\")"
   ]
  },
  {
   "cell_type": "code",
   "execution_count": 1,
   "metadata": {},
   "outputs": [],
   "source": [
    "import os"
   ]
  },
  {
   "cell_type": "code",
   "execution_count": 2,
   "metadata": {},
   "outputs": [
    {
     "data": {
      "text/plain": [
       "'e:\\\\projects\\\\Delivery-time-prediction-for-food-devlivery-industry\\\\research'"
      ]
     },
     "execution_count": 2,
     "metadata": {},
     "output_type": "execute_result"
    }
   ],
   "source": [
    "%pwd"
   ]
  },
  {
   "cell_type": "code",
   "execution_count": 3,
   "metadata": {},
   "outputs": [],
   "source": [
    "os.chdir(\"../\")"
   ]
  },
  {
   "cell_type": "code",
   "execution_count": 4,
   "metadata": {},
   "outputs": [
    {
     "data": {
      "text/plain": [
       "'e:\\\\projects\\\\Delivery-time-prediction-for-food-devlivery-industry'"
      ]
     },
     "execution_count": 4,
     "metadata": {},
     "output_type": "execute_result"
    }
   ],
   "source": [
    "%pwd"
   ]
  },
  {
   "cell_type": "code",
   "execution_count": 16,
   "metadata": {},
   "outputs": [],
   "source": [
    "from dataclasses import dataclass\n",
    "from pathlib import Path\n",
    "\n",
    "@dataclass(frozen=True)\n",
    "class DataPreparationConfig:\n",
    "    root_dir: Path\n",
    "    data_input_dir: Path\n",
    "    train_dir: Path\n",
    "    test_dir: Path\n",
    "    params : dict"
   ]
  },
  {
   "cell_type": "code",
   "execution_count": 14,
   "metadata": {},
   "outputs": [],
   "source": [
    "from pathlib import Path\n",
    "\n",
    "CONFIG_FILE_PATH = Path(\"E:\\projects\\Delivery-time-prediction-for-food-devlivery-industry\\config\\config.yaml\")\n",
    "PARAMS_FILE_PATH = Path(\"E:\\projects\\Delivery-time-prediction-for-food-devlivery-industry\\params.yaml\")\n",
    "SCHEMA_FILE_PATH = Path(\"E:\\projects\\Delivery-time-prediction-for-food-devlivery-industry\\schema.yaml\")"
   ]
  },
  {
   "cell_type": "code",
   "execution_count": 18,
   "metadata": {},
   "outputs": [],
   "source": [
    "from Deliveryprediction.constants import *\n",
    "from Deliveryprediction.utils.common import read_yaml, create_directories\n",
    "\n",
    "class ConfigurationManager:\n",
    "    def __init__(\n",
    "        self,\n",
    "        config_filepath = CONFIG_FILE_PATH,\n",
    "        params_filepath = PARAMS_FILE_PATH,\n",
    "        schema_filepath = SCHEMA_FILE_PATH):\n",
    "\n",
    "        self.config = read_yaml(config_filepath)\n",
    "        self.params = read_yaml(params_filepath)\n",
    "        self.schema = read_yaml(schema_filepath)\n",
    "\n",
    "        create_directories([self.config.artifacts_root])\n",
    "\n",
    "\n",
    "    \n",
    "    def get_data_preparation_config(self) -> DataPreparationConfig:\n",
    "        config = self.config.data_preparation\n",
    "        params = self.params.PARAMS\n",
    "\n",
    "        create_directories([config.root_dir])\n",
    "\n",
    "        data_Preparation_config = DataPreparationConfig(\n",
    "            root_dir = config.root_dir,\n",
    "            data_input_dir = config.data_input_dir,\n",
    "            train_dir = config.train_dir,\n",
    "            test_dir = config.test_dir,\n",
    "            params = params    \n",
    "        )\n",
    "\n",
    "        return data_Preparation_config\n"
   ]
  },
  {
   "cell_type": "code",
   "execution_count": 19,
   "metadata": {},
   "outputs": [],
   "source": [
    "import pandas as pd\n",
    "from sklearn.model_selection import train_test_split\n",
    "import yaml\n",
    "from Deliveryprediction import logger\n",
    "from pathlib import Path\n"
   ]
  },
  {
   "cell_type": "code",
   "execution_count": 34,
   "metadata": {},
   "outputs": [],
   "source": [
    "\n",
    "class DataPreparation:\n",
    "\n",
    "    def __init__(self,config:DataPreparationConfig):\n",
    "        self.config = config\n",
    "                \n",
    "    def load_data(self) -> pd.DataFrame:\n",
    "        try:\n",
    "          df = pd.read_csv(self.config.data_input_dir)\n",
    "        except FileNotFoundError:\n",
    "            logger.error(\"The file to load does not exist\")\n",
    "        return df\n",
    "    def split_data(self, data: pd.DataFrame):\n",
    "        train_data, test_data = train_test_split(data, \n",
    "                                                test_size=self.config.params.test_size, \n",
    "                                                random_state=self.config.params.random_state)\n",
    "        \n",
    "\n",
    "        train_data.to_csv(os.path.join(self.config.train_dir, \"train.csv\"),index = False)\n",
    "        test_data.to_csv(os.path.join(self.config.test_dir, \"test.csv\"),index = False)\n",
    "\n",
    "        # return train_data, test_data\n",
    "  \n"
   ]
  },
  {
   "cell_type": "code",
   "execution_count": null,
   "metadata": {},
   "outputs": [],
   "source": [
    " \n"
   ]
  },
  {
   "cell_type": "code",
   "execution_count": 5,
   "metadata": {},
   "outputs": [],
   "source": [
    "import os"
   ]
  },
  {
   "cell_type": "code",
   "execution_count": 22,
   "metadata": {},
   "outputs": [
    {
     "data": {
      "text/plain": [
       "'e:\\\\projects\\\\Delivery-time-prediction-for-food-devlivery-industry'"
      ]
     },
     "execution_count": 22,
     "metadata": {},
     "output_type": "execute_result"
    }
   ],
   "source": [
    "pwd"
   ]
  },
  {
   "cell_type": "code",
   "execution_count": null,
   "metadata": {},
   "outputs": [],
   "source": []
  },
  {
   "cell_type": "code",
   "execution_count": 36,
   "metadata": {},
   "outputs": [
    {
     "name": "stdout",
     "output_type": "stream",
     "text": [
      "[2025-02-11 09:52:25,700: INFO: common: yaml file: E:\\projects\\Delivery-time-prediction-for-food-devlivery-industry\\config\\config.yaml loaded successfully]\n",
      "[2025-02-11 09:52:25,705: INFO: common: yaml file: E:\\projects\\Delivery-time-prediction-for-food-devlivery-industry\\params.yaml loaded successfully]\n",
      "[2025-02-11 09:52:25,712: INFO: common: yaml file: E:\\projects\\Delivery-time-prediction-for-food-devlivery-industry\\schema.yaml loaded successfully]\n",
      "[2025-02-11 09:52:25,715: INFO: common: created directory at: artifacts]\n",
      "[2025-02-11 09:52:25,718: INFO: common: created directory at: artifacts/data_preparation]\n"
     ]
    }
   ],
   "source": [
    "config = ConfigurationManager()\n",
    "data_preparation_config = config.get_data_preparation_config()\n",
    "data_preparation = DataPreparation(config=data_preparation_config)\n",
    "data=data_preparation.load_data()\n",
    "data_preparation.split_data(data)"
   ]
  },
  {
   "cell_type": "code",
   "execution_count": 32,
   "metadata": {},
   "outputs": [
    {
     "name": "stdout",
     "output_type": "stream",
     "text": [
      "Unexpected exception formatting exception. Falling back to standard exception\n"
     ]
    },
    {
     "name": "stderr",
     "output_type": "stream",
     "text": [
      "Traceback (most recent call last):\n",
      "  File \"e:\\projects\\Delivery-time-prediction-for-food-devlivery-industry\\.venv\\lib\\site-packages\\IPython\\core\\interactiveshell.py\", line 3579, in run_code\n",
      "    exec(code_obj, self.user_global_ns, self.user_ns)\n",
      "  File \"C:\\Users\\Admin\\AppData\\Local\\Temp\\ipykernel_10168\\2348561343.py\", line 1, in <module>\n",
      "    test_data\n",
      "NameError: name 'test_data' is not defined\n",
      "\n",
      "During handling of the above exception, another exception occurred:\n",
      "\n",
      "Traceback (most recent call last):\n",
      "  File \"e:\\projects\\Delivery-time-prediction-for-food-devlivery-industry\\.venv\\lib\\site-packages\\IPython\\core\\interactiveshell.py\", line 2170, in showtraceback\n",
      "    stb = self.InteractiveTB.structured_traceback(\n",
      "  File \"e:\\projects\\Delivery-time-prediction-for-food-devlivery-industry\\.venv\\lib\\site-packages\\IPython\\core\\ultratb.py\", line 1457, in structured_traceback\n",
      "    return FormattedTB.structured_traceback(\n",
      "  File \"e:\\projects\\Delivery-time-prediction-for-food-devlivery-industry\\.venv\\lib\\site-packages\\IPython\\core\\ultratb.py\", line 1348, in structured_traceback\n",
      "    return VerboseTB.structured_traceback(\n",
      "  File \"e:\\projects\\Delivery-time-prediction-for-food-devlivery-industry\\.venv\\lib\\site-packages\\IPython\\core\\ultratb.py\", line 1195, in structured_traceback\n",
      "    formatted_exception = self.format_exception_as_a_whole(etype, evalue, etb, number_of_lines_of_context,\n",
      "  File \"e:\\projects\\Delivery-time-prediction-for-food-devlivery-industry\\.venv\\lib\\site-packages\\IPython\\core\\ultratb.py\", line 1110, in format_exception_as_a_whole\n",
      "    frames.append(self.format_record(record))\n",
      "  File \"e:\\projects\\Delivery-time-prediction-for-food-devlivery-industry\\.venv\\lib\\site-packages\\IPython\\core\\ultratb.py\", line 992, in format_record\n",
      "    frame_info.lines, Colors, self.has_colors, lvals\n",
      "  File \"e:\\projects\\Delivery-time-prediction-for-food-devlivery-industry\\.venv\\lib\\site-packages\\IPython\\core\\ultratb.py\", line 804, in lines\n",
      "    return self._sd.lines\n",
      "  File \"e:\\projects\\Delivery-time-prediction-for-food-devlivery-industry\\.venv\\lib\\site-packages\\stack_data\\utils.py\", line 145, in cached_property_wrapper\n",
      "    value = obj.__dict__[self.func.__name__] = self.func(obj)\n",
      "  File \"e:\\projects\\Delivery-time-prediction-for-food-devlivery-industry\\.venv\\lib\\site-packages\\stack_data\\core.py\", line 734, in lines\n",
      "    pieces = self.included_pieces\n",
      "  File \"e:\\projects\\Delivery-time-prediction-for-food-devlivery-industry\\.venv\\lib\\site-packages\\stack_data\\utils.py\", line 145, in cached_property_wrapper\n",
      "    value = obj.__dict__[self.func.__name__] = self.func(obj)\n",
      "  File \"e:\\projects\\Delivery-time-prediction-for-food-devlivery-industry\\.venv\\lib\\site-packages\\stack_data\\core.py\", line 677, in included_pieces\n",
      "    scope_pieces = self.scope_pieces\n",
      "  File \"e:\\projects\\Delivery-time-prediction-for-food-devlivery-industry\\.venv\\lib\\site-packages\\stack_data\\utils.py\", line 145, in cached_property_wrapper\n",
      "    value = obj.__dict__[self.func.__name__] = self.func(obj)\n",
      "  File \"e:\\projects\\Delivery-time-prediction-for-food-devlivery-industry\\.venv\\lib\\site-packages\\stack_data\\core.py\", line 614, in scope_pieces\n",
      "    scope_start, scope_end = self.source.line_range(self.scope)\n",
      "  File \"e:\\projects\\Delivery-time-prediction-for-food-devlivery-industry\\.venv\\lib\\site-packages\\stack_data\\core.py\", line 178, in line_range\n",
      "    return line_range(self.asttext(), node)\n",
      "AttributeError: 'Source' object has no attribute 'asttext'\n"
     ]
    }
   ],
   "source": [
    "test_data"
   ]
  },
  {
   "cell_type": "code",
   "execution_count": null,
   "metadata": {},
   "outputs": [],
   "source": []
  }
 ],
 "metadata": {
  "kernelspec": {
   "display_name": ".venv",
   "language": "python",
   "name": "python3"
  },
  "language_info": {
   "codemirror_mode": {
    "name": "ipython",
    "version": 3
   },
   "file_extension": ".py",
   "mimetype": "text/x-python",
   "name": "python",
   "nbconvert_exporter": "python",
   "pygments_lexer": "ipython3",
   "version": "3.10.13"
  }
 },
 "nbformat": 4,
 "nbformat_minor": 2
}
